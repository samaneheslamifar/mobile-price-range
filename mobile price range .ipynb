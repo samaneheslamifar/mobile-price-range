{
 "cells": [
  {
   "cell_type": "code",
   "execution_count": null,
   "id": "9be4c8be",
   "metadata": {},
   "outputs": [],
   "source": [
    "import pandas as pd\n",
    "import numpy as np\n",
    "import matplotlib.pyplot as plt\n",
    "import seaborn as sns\n",
    "import zipcodes as zcode\n",
    "from sklearn.model_selection import train_test_split\n",
    "from sklearn import metrics\n",
    "from sklearn.metrics import classification_report , confusion_matrix\n",
    "from sklearn.metrics import accuracy_score, precision_score, recall_score, f1_score\n",
    "from sklearn.metrics import precision_recall_curve\n",
    "from sklearn.ensemble import RandomForestClassifier\n",
    "from sklearn.preprocessing import StandardScaler, MinMaxScaler\n",
    "from sklearn.tree import DecisionTreeClassifier\n"
   ]
  },
  {
   "cell_type": "code",
   "execution_count": null,
   "id": "744c13bf",
   "metadata": {},
   "outputs": [],
   "source": [
    "train_df = pd.read_csv(\"C:/data sets/mobile/train.csv\")\n",
    "test_df = pd.read_csv(\"C:/data sets/mobile/test.csv\")\n",
    "train_df.head()"
   ]
  },
  {
   "cell_type": "code",
   "execution_count": null,
   "id": "a3055cc4",
   "metadata": {},
   "outputs": [],
   "source": [
    "train_df.info()"
   ]
  },
  {
   "cell_type": "code",
   "execution_count": null,
   "id": "14b1d157",
   "metadata": {},
   "outputs": [],
   "source": [
    "train_df.describe().T"
   ]
  },
  {
   "cell_type": "code",
   "execution_count": null,
   "id": "f9bc8b23",
   "metadata": {},
   "outputs": [],
   "source": [
    "train_df.shape"
   ]
  },
  {
   "cell_type": "code",
   "execution_count": null,
   "id": "958b4df9",
   "metadata": {},
   "outputs": [],
   "source": [
    "test_df.shape"
   ]
  },
  {
   "cell_type": "code",
   "execution_count": null,
   "id": "957419c7",
   "metadata": {},
   "outputs": [],
   "source": [
    "pd.isnull(train_df).sum()"
   ]
  },
  {
   "cell_type": "markdown",
   "id": "60f69843",
   "metadata": {},
   "source": [
    "#### plot relation between price_range and features"
   ]
  },
  {
   "cell_type": "code",
   "execution_count": null,
   "id": "162dfaa7",
   "metadata": {},
   "outputs": [],
   "source": [
    "fig, ax = plt.subplots(ncols=2, nrows=4, figsize=(12,28))\n",
    "sns.boxplot(x='price_range',y='ram',data=train_df,ax=ax[0,0]);\n",
    "sns.boxplot(x='price_range',y='battery_power',data=train_df,ax=ax[0,1]);\n",
    "sns.boxplot(x='price_range',y='px_height',data=train_df,ax=ax[1,0]);\n",
    "sns.boxplot(x='price_range',y='px_width',data=train_df,ax=ax[1,1]);\n",
    "sns.boxplot(x='price_range',y='int_memory',data=train_df,ax=ax[2,0]);\n",
    "sns.boxplot(x='price_range',y='wifi',data=train_df,ax=ax[2,1]);\n",
    "sns.boxplot(x='price_range',y='mobile_wt',data=train_df,ax=ax[3,0]);\n",
    "sns.boxplot(x='price_range',y='n_cores',data=train_df,ax=ax[3,1]);"
   ]
  },
  {
   "cell_type": "markdown",
   "id": "33427192",
   "metadata": {},
   "source": [
    "#### Outlier Analysis of Non-Categorical Data:"
   ]
  },
  {
   "cell_type": "code",
   "execution_count": null,
   "id": "8dad33e5",
   "metadata": {},
   "outputs": [],
   "source": [
    "fig, ax = plt.subplots(ncols=2, nrows=7, figsize=(12,28))\n",
    "sns.boxplot(x=train_df['battery_power'],ax=ax[0,0])\n",
    "sns.boxplot(x=train_df['clock_speed'],ax=ax[0,1])\n",
    "sns.boxplot(x=train_df['fc'],ax=ax[1,0])\n",
    "sns.boxplot(x=train_df['pc'],ax=ax[1,1])\n",
    "sns.boxplot(x=train_df['px_width'],ax=ax[2,0])\n",
    "sns.boxplot(x=train_df['sc_h'],ax=ax[2,1])\n",
    "sns.boxplot(x=train_df['int_memory'],ax=ax[3,0])\n",
    "sns.boxplot(x=train_df['m_dep'],ax=ax[3,1])\n",
    "sns.boxplot(x=train_df['mobile_wt'],ax=ax[4,0])\n",
    "sns.boxplot(x=train_df['n_cores'],ax=ax[4,1])\n",
    "sns.boxplot(x=train_df['px_height'],ax=ax[5,0])\n",
    "sns.boxplot(x=train_df['ram'],ax=ax[5,1])\n",
    "sns.boxplot(x=train_df['sc_w'],ax=ax[6,0])\n",
    "sns.boxplot(x=train_df['talk_time'],ax=ax[6,1])"
   ]
  },
  {
   "cell_type": "code",
   "execution_count": null,
   "id": "35004e76",
   "metadata": {},
   "outputs": [],
   "source": [
    "plt.figure(figsize=(8,3))\n",
    "sns.barplot(x='price_range',y='ram',data=train_df)\n",
    "plt.show()"
   ]
  },
  {
   "cell_type": "markdown",
   "id": "f71750a8",
   "metadata": {},
   "source": [
    "#### price_range vs Ram"
   ]
  },
  {
   "cell_type": "code",
   "execution_count": null,
   "id": "fcd97931",
   "metadata": {},
   "outputs": [],
   "source": [
    "sns.catplot(x=\"price_range\",y=\"ram\",data=train_df)\n",
    "plt.xticks(rotation=90);"
   ]
  },
  {
   "cell_type": "raw",
   "id": "6cc3ee80",
   "metadata": {},
   "source": [
    "As we see and we expected , mobiles which belong to third category ,are having the more rams."
   ]
  },
  {
   "cell_type": "markdown",
   "id": "8707b793",
   "metadata": {},
   "source": [
    "#### plotting Relation between Price_range and Battery Power"
   ]
  },
  {
   "cell_type": "code",
   "execution_count": null,
   "id": "d09588eb",
   "metadata": {},
   "outputs": [],
   "source": [
    "plt.figure(figsize=(8,3))\n",
    "sns.barplot(x='price_range',y='battery_power',data=train_df)\n",
    "plt.show()"
   ]
  },
  {
   "cell_type": "raw",
   "id": "38a2ad00",
   "metadata": {},
   "source": [
    "the mobiles which belong to the price range of 3 that means more than 3k are having better battery power\n"
   ]
  },
  {
   "cell_type": "markdown",
   "id": "334838c4",
   "metadata": {},
   "source": [
    "#### plotting Relation between Price_range and Pixel Hight/Width"
   ]
  },
  {
   "cell_type": "code",
   "execution_count": null,
   "id": "08a83f4c",
   "metadata": {},
   "outputs": [],
   "source": [
    "plt.figure(figsize=(10,5))\n",
    "plt.subplot(1,2,1)\n",
    "sns.barplot(x='price_range',y='px_height',data=train_df,palette='Reds')   \n",
    "plt.subplot(1,2,2)\n",
    "sns.barplot(x='price_range',y='px_width',data=train_df,palette='Blues')\n",
    "plt.show()\n"
   ]
  },
  {
   "cell_type": "raw",
   "id": "99f43cbb",
   "metadata": {},
   "source": [
    "as we can see more the price , more the Pixel "
   ]
  },
  {
   "cell_type": "markdown",
   "id": "46565d47",
   "metadata": {},
   "source": [
    "#### plotting Relation between Price_range and 3G/4G"
   ]
  },
  {
   "cell_type": "code",
   "execution_count": null,
   "id": "3892f352",
   "metadata": {},
   "outputs": [],
   "source": [
    "plt.figure(figsize=(10,5))\n",
    "sns.countplot(train_df['three_g'],hue=train_df['price_range'], palette='pink')\n",
    "plt.show()"
   ]
  },
  {
   "cell_type": "raw",
   "id": "1d9212e3",
   "metadata": {},
   "source": [
    "among the mobiles having 3G ,those that belong to seconde price_range category are highest.\n",
    "we may ask why not the third category? because in that time 4G mobiles were in the market and we will see this issue in the next plot for 4G ."
   ]
  },
  {
   "cell_type": "code",
   "execution_count": null,
   "id": "0dde7649",
   "metadata": {},
   "outputs": [],
   "source": [
    "plt.figure(figsize=(10,5))\n",
    "sns.countplot(train_df['four_g'],hue=train_df['price_range'], palette='ocean')\n",
    "plt.show()"
   ]
  },
  {
   "cell_type": "raw",
   "id": "4624a012",
   "metadata": {},
   "source": [
    "mobiles which belong to 4G category , they are mostly belonging to third price category\n"
   ]
  },
  {
   "cell_type": "code",
   "execution_count": null,
   "id": "d4546124",
   "metadata": {},
   "outputs": [],
   "source": [
    "y = train_df['price_range']\n",
    "x = train_df.drop('price_range', axis = 1)"
   ]
  },
  {
   "cell_type": "code",
   "execution_count": null,
   "id": "6d920169",
   "metadata": {},
   "outputs": [],
   "source": [
    "x_train, x_test, y_train, y_test = train_test_split(x,y,test_size = 0.2,random_state=1)"
   ]
  },
  {
   "cell_type": "code",
   "execution_count": null,
   "id": "966bcc83",
   "metadata": {},
   "outputs": [],
   "source": [
    "y.unique()\n",
    "# We have four price ranges as target values and will do multi-class classification in our study. "
   ]
  },
  {
   "cell_type": "code",
   "execution_count": null,
   "id": "4da41b3e",
   "metadata": {},
   "outputs": [],
   "source": [
    "labels = [\"low cost\", \"medium cost\", \"high cost\", \"very high cost\"]\n",
    "values = train_df['price_range'].value_counts().values\n",
    "colors = ['yellow','turquoise','lightblue', 'pink']\n",
    "fig1, ax1 = plt.subplots()\n",
    "ax1.pie(values, labels=labels, colors=colors, autopct='%1.1f%%', shadow=True, startangle=90)\n",
    "plt.show()\n",
    "#as we see in pie chart , dataset is balanced..."
   ]
  },
  {
   "cell_type": "code",
   "execution_count": null,
   "id": "368d4389",
   "metadata": {},
   "outputs": [],
   "source": [
    "corr = train_df.corr()\n",
    "corr = corr.price_range\n",
    "cr = corr.sort_values(ascending = False)[1:]\n",
    "sns.barplot(x=cr, y=cr.index,palette = \"bright\")\n",
    "plt.title(\"Correlation between Attributes and Price Range\")"
   ]
  },
  {
   "cell_type": "code",
   "execution_count": null,
   "id": "e33ae13d",
   "metadata": {},
   "outputs": [],
   "source": [
    "fig = plt.subplots (figsize = (12, 12))\n",
    "sns.heatmap(train_df.corr (), square = True, cbar = True, annot = True, cmap=\"GnBu\", annot_kws = {'size': 8})\n",
    "plt.title('Correlations between Attributes')\n",
    "plt.show ()"
   ]
  },
  {
   "cell_type": "markdown",
   "id": "a10f16fb",
   "metadata": {},
   "source": [
    "##### We see from the heatmap;"
   ]
  },
  {
   "cell_type": "raw",
   "id": "82604a42",
   "metadata": {},
   "source": [
    "1.most corelated variable is ram\n",
    "2.most of the variables have very little correlation to price range\n",
    "3.primary camera mega pixels and front Camera mega pixels have correlation (it make sense because both of them reflect technology level of resolution of the related phone model) but they do not effect price range.\n",
    "4.having 3G and 4G is somewhat correlated\n"
   ]
  },
  {
   "cell_type": "markdown",
   "id": "f8b79370",
   "metadata": {},
   "source": [
    "### Decision Tree"
   ]
  },
  {
   "cell_type": "code",
   "execution_count": null,
   "id": "93a19385",
   "metadata": {},
   "outputs": [],
   "source": [
    "dt_gini = DecisionTreeClassifier(random_state=101)\n",
    "dt_model = dt_gini.fit(x_train, y_train)"
   ]
  },
  {
   "cell_type": "code",
   "execution_count": null,
   "id": "532d2758",
   "metadata": {},
   "outputs": [],
   "source": [
    "y_pred_dt_gini = dt_gini.predict(x_test)"
   ]
  },
  {
   "cell_type": "code",
   "execution_count": null,
   "id": "3dd46f81",
   "metadata": {},
   "outputs": [],
   "source": [
    "dt_model"
   ]
  },
  {
   "cell_type": "code",
   "execution_count": null,
   "id": "e1beb1f6",
   "metadata": {},
   "outputs": [],
   "source": [
    "print(metrics.confusion_matrix(y_test, y_pred_dt_gini))"
   ]
  },
  {
   "cell_type": "code",
   "execution_count": null,
   "id": "e27a15de",
   "metadata": {},
   "outputs": [],
   "source": [
    "print(metrics.classification_report(y_test, y_pred_dt_gini)) "
   ]
  },
  {
   "cell_type": "code",
   "execution_count": null,
   "id": "224dd369",
   "metadata": {},
   "outputs": [],
   "source": [
    "acc_dt_gini = metrics.accuracy_score(y_test, y_pred_dt_gini)\n",
    "acc_dt_gini"
   ]
  },
  {
   "cell_type": "code",
   "execution_count": null,
   "id": "bf22d71c",
   "metadata": {},
   "outputs": [],
   "source": [
    "#Visualizing the Confusion Matrix\n",
    "cm = confusion_matrix(y_test, y_pred_dt_gini)\n",
    "# label the confusion matrix  \n",
    "conf_matrix=pd.DataFrame(data=cm,columns=[\"Low Cost\", \"Budgeted\", \"Medium Cost\", \"Flagship\"],index=[\"Low Cost\", \"Budgeted\", \"Medium Cost\", \"Flagship\"])\n",
    "# plot a heatmap\n",
    "fig, ax = plt.subplots(figsize=(10,8))\n",
    "sns.heatmap(conf_matrix, annot=True,fmt='d',cmap=\"YlGnBu\")\n",
    "plt.title(\"Confusion Matrix for Decison Tree (Gini)\")\n",
    "plt.show()"
   ]
  },
  {
   "cell_type": "code",
   "execution_count": null,
   "id": "42b1cd3d",
   "metadata": {},
   "outputs": [],
   "source": [
    "from sklearn.tree import DecisionTreeClassifier\n",
    "dte = DecisionTreeClassifier(criterion= \"entropy\",random_state=101)\n",
    "dte.fit(x_train, y_train)\n",
    "y_pred_dte = dte.predict(x_test)\n",
    "#Visualizing the Confusion Matrix\n",
    "cm = confusion_matrix(y_test, y_pred_dte)\n",
    "# label the confusion matrix  \n",
    "conf_matrix=pd.DataFrame(data=cm,columns=[\"Low Cost\", \"Budgeted\", \"Medium Cost\", \"Flagship\"],index=[\"Low Cost\", \"Budgeted\", \"Medium Cost\", \"Flagship\"])\n",
    "# plot a heatmap\n",
    "fig, ax = plt.subplots(figsize=(10,8))\n",
    "sns.heatmap(conf_matrix, annot=True,fmt='d',cmap=\"YlGnBu\")\n",
    "plt.title(\"Confusion Matrix for Decison Tree (Entropy)\")\n",
    "plt.show()\n",
    "#Calculate Accuracy\n",
    "acc_dte = accuracy_score(y_test, y_pred_dte)\n",
    "#Accuracy\n",
    "print(metrics.classification_report(y_test, y_pred_dte)) "
   ]
  },
  {
   "cell_type": "code",
   "execution_count": null,
   "id": "5698a818",
   "metadata": {},
   "outputs": [],
   "source": [
    "# ------------->RANDOM FOREST<------------\n",
    "from sklearn.ensemble import RandomForestClassifier\n",
    "rf = RandomForestClassifier(n_estimators = 100, random_state=0,criterion = 'entropy',oob_score = True) \n",
    "rf.fit(x_train, y_train)\n",
    "y_pred_rf = rf.predict(x_test)\n",
    "#Visualizing the Confusion Matrix\n",
    "cm = confusion_matrix(y_test, y_pred_rf)\n",
    "# label the confusion matrix  \n",
    "conf_matrix=pd.DataFrame(data=cm,columns=[\"Low Cost\", \"Budgeted\", \"Medium Cost\", \"Flagship\"],index=[\"Low Cost\", \"Budgeted\", \"Medium Cost\", \"Flagship\"])\n",
    "# plot a heatmap\n",
    "fig, ax = plt.subplots(figsize=(10,8))\n",
    "sns.heatmap(conf_matrix, annot=True,fmt='d',cmap=\"YlGnBu\")\n",
    "plt.title(\"Confusion Matrix for Random Forest\")\n",
    "plt.show()\n",
    "#Calculate Accuracy\n",
    "acc_rf = accuracy_score(y_test, y_pred_rf)\n",
    "#Accuracy Report\n",
    "print(metrics.classification_report(y_test, y_pred_rf)) "
   ]
  },
  {
   "cell_type": "code",
   "execution_count": null,
   "id": "ada82e9e",
   "metadata": {},
   "outputs": [],
   "source": [
    "train_df"
   ]
  },
  {
   "cell_type": "code",
   "execution_count": null,
   "id": "5bac35dd",
   "metadata": {},
   "outputs": [],
   "source": [
    "#------------->SVM<-------------   \n",
    "from sklearn.svm import SVC \n",
    "svm = SVC(kernel = 'linear',random_state = 0)  \n",
    "svm.fit(x_train,y_train)                  \n",
    "y_pred_svm = svm.predict(x_test)\n",
    "#Visualizing the Confusion Matrix\n",
    "cm = confusion_matrix(y_test, y_pred_svm)\n",
    "# label the confusion matrix  \n",
    "conf_matrix=pd.DataFrame(data=cm,columns=[\"Low Cost\", \"Budgeted\", \"Medium Cost\", \"Flagship\"],index=[\"Low Cost\", \"Budgeted\", \"Medium Cost\", \"Flagship\"])\n",
    "# plot a heatmap\n",
    "fig, ax = plt.subplots(figsize=(10,8))\n",
    "sns.heatmap(conf_matrix, annot=True,fmt='d',cmap=\"YlGnBu\")\n",
    "plt.title(\"Confusion Matrix for SVM\")\n",
    "plt.show()\n",
    "#Calculate Accuracy\n",
    "acc_svm = accuracy_score(y_test, y_pred_svm)  \n",
    "#Accuracy Report\n",
    "print(metrics.classification_report(y_test, y_pred_svm)) "
   ]
  },
  {
   "cell_type": "code",
   "execution_count": null,
   "id": "fdfed008",
   "metadata": {},
   "outputs": [],
   "source": [
    "print(\"train accuracy:\",svm.score(x_train,y_train))\n",
    "print(\"test accuracy:\",svm.score(x_test,y_test))"
   ]
  },
  {
   "cell_type": "code",
   "execution_count": null,
   "id": "9d3c06cd",
   "metadata": {},
   "outputs": [],
   "source": [
    "#------------>Accuracy Comparison<------------\n",
    "models = ['dt_gini','DTE','RF','SVM']\n",
    "acc_scores = [acc_dt_gini,acc_dte,acc_rf,acc_svm]\n",
    "print(\"Models\\tAccuracy\\n\")\n",
    "for i in range(4):\n",
    "    print(str(models[i]) + \"\\t\" + str(acc_scores[i]),end='\\n')"
   ]
  },
  {
   "cell_type": "markdown",
   "id": "0d7fea00",
   "metadata": {},
   "source": [
    "#### Detailed CLassification Report"
   ]
  },
  {
   "cell_type": "code",
   "execution_count": null,
   "id": "9d8255d0",
   "metadata": {},
   "outputs": [],
   "source": [
    "\n",
    "\n",
    "# Confusion Matrix\n",
    "print(\"\\n------------>Classification Report for SVM<------------\")\n",
    "confusion = confusion_matrix(y_test, y_pred_svm)\n",
    "# For class 0\n",
    "TP_0 = confusion[0,0]\n",
    "TN_0 = confusion[1,1]+confusion[2,2]+confusion[3,3]\n",
    "FP_0 = confusion[1,0]+confusion[2,0]+confusion[3,0]\n",
    "FN_0 = confusion[0,1]+confusion[0,2]+confusion[0,3]\n",
    "\n",
    "precision_0 = TP_0 / ( TP_0 + FP_0)\n",
    "recall_0 = TP_0 / ( TP_0 + FN_0)\n",
    "specificity_0 = TN_0 / (TN_0 + FP_0)\n",
    "accuracy_0 = (TP_0 + TN_0) / (TP_0 + TN_0 + FP_0 + FN_0)\n",
    "fscore_0 = (2 * precision_0 * recall_0) / (precision_0 + recall_0)\n",
    "# For class 1\n",
    "TP_1 = confusion[1,1]\n",
    "TN_1 = confusion[0,0]+confusion[2,2]+confusion[3,3]\n",
    "FP_1 = confusion[0,1]+confusion[2,1]+confusion[3,1]\n",
    "FN_1 = confusion[1,0]+confusion[1,2]+confusion[1,3]\n",
    "\n",
    "precision_1 = TP_1 / ( TP_1 + FP_1)\n",
    "recall_1 = TP_1 / ( TP_1 + FN_1)\n",
    "specificity_1 = TN_1 / (TN_1 + FP_1)\n",
    "accuracy_1 = (TP_1 + TN_1) / (TP_1 + TN_1 + FP_1 + FN_1)\n",
    "fscore_1 = (2 * precision_1 * recall_1) / (precision_1 + recall_1)\n",
    "\n",
    "# For class 2\n",
    "TP_2 = confusion[2,2]\n",
    "TN_2 = confusion[1,1]+confusion[0,0]+confusion[3,3]\n",
    "FP_2 = confusion[1,2]+confusion[0,2]+confusion[3,2]\n",
    "FN_2 = confusion[2,0]+confusion[2,1]+confusion[2,3]\n",
    "\n",
    "precision_2 = TP_2 / ( TP_2 + FP_2)\n",
    "recall_2 = TP_2 / ( TP_2 + FN_2)\n",
    "specificity_2 = TN_2 / (TN_2 + FP_2)\n",
    "accuracy_2 = (TP_2 + TN_2) / (TP_2 + TN_2 + FP_2 + FN_2)\n",
    "fscore_2 = (2 * precision_2 * recall_2) / (precision_2 + recall_2)\n",
    "\n",
    "# For class 3\n",
    "TP_3 = confusion[3,3]\n",
    "TN_3 = confusion[1,1]+confusion[2,2]+confusion[0,0]\n",
    "FP_3 = confusion[0,3]+confusion[2,3]+confusion[1,3]\n",
    "FN_3 = confusion[3,1]+confusion[3,2]+confusion[3,0]\n",
    "\n",
    "precision_3 = TP_3 / ( TP_3 + FP_3)\n",
    "recall_3 = TP_3 / ( TP_3 + FN_3)\n",
    "specificity_3 = TN_3 / (TN_3 + FP_3)\n",
    "accuracy_3 = (TP_3 + TN_3) / (TP_3 + TN_3 + FP_3 + FN_3)\n",
    "fscore_3 = (2 * precision_3 * recall_3) / (precision_3 + recall_3)\n",
    "\n",
    "print(\"-----------------------------------------------------------------\")\n",
    "print(\"\\t \" \"  Class 0 \\t Class 1 \\t Class 2 \\t Class 3\")\n",
    "print(\"-----------------------------------------------------------------\")\n",
    "print(\"Accuracy:\" + \"  \" + str(\"%.4f\" % accuracy_0) + \" \\t \" + str(\"%.4f\" % accuracy_1) +\"\\t\"+\" \\t \" + str(\"%.4f\" % accuracy_2) +\"\\t\"+ \" \\t \" + str(\"%.4f\" % accuracy_3) + \"\\n\")\n",
    "print(\"Precision:\" + \" \" + str(\"%.4f\" % precision_0) + \" \\t \" + str(\"%.4f\" % precision_1) +\"\\t\"+\" \\t \" + str(\"%.4f\" % precision_2) +\"\\t\"+ \" \\t \" + str(\"%.4f\" % precision_3) + \"\\n\")\n",
    "print(\"Recall:\" + \"    \" + str(\"%.4f\" % recall_0) + \" \\t \" + str(\"%.4f\" % recall_1) +\"\\t\"+\" \\t \" + str(\"%.4f\" % recall_2) +\"\\t\"+ \" \\t \" + str(\"%.4f\" % recall_3) + \"\\n\")\n",
    "print(\"Specificity:\" +\"\" + str(\"%.4f\" % specificity_0) + \" \\t \" + str(\"%.4f\" % specificity_1) +\"\\t\"+\" \\t \" + str(\"%.4f\" % specificity_2) +\"\\t\"+ \" \\t \" + str(\"%.4f\" % specificity_3) + \"\\n\")\n",
    "print(\"F-score:\" + \"   \" + str(\"%.4f\" % fscore_0) + \" \\t \" + str(\"%.4f\" % fscore_1) +\"\\t\"+\" \\t \" + str(\"%.4f\" % fscore_2) +\"\\t\"+ \" \\t \" + str(\"%.4f\" % fscore_3) )\n",
    "print(\"-----------------------------------------------------------------\")"
   ]
  },
  {
   "cell_type": "markdown",
   "id": "315eb60a",
   "metadata": {},
   "source": [
    "#### Different Kernels:"
   ]
  },
  {
   "cell_type": "code",
   "execution_count": null,
   "id": "38f17d7a",
   "metadata": {},
   "outputs": [],
   "source": [
    "\n",
    "linear = SVC(kernel='linear', C=1, decision_function_shape='ovo').fit(x_train, y_train)\n",
    "rbf = SVC(kernel='rbf', gamma=1, C=1, decision_function_shape='ovo').fit(x_train, y_train)\n",
    "poly = SVC(kernel='poly', degree=3, C=1, decision_function_shape='ovo').fit(x_train, y_train)\n",
    "sig = SVC(kernel='sigmoid', C=1, decision_function_shape='ovo').fit(x_train, y_train)"
   ]
  },
  {
   "cell_type": "code",
   "execution_count": null,
   "id": "516ae5d5",
   "metadata": {},
   "outputs": [],
   "source": [
    "accuracy_lin = linear.score(x_test, y_test)\n",
    "accuracy_poly = poly.score(x_test, y_test)\n",
    "accuracy_rbf = rbf.score(x_test, y_test)\n",
    "accuracy_sig = sig.score(x_test, y_test)\n",
    "print(\"Accuracy Linear Kernel:\", accuracy_lin)\n",
    "print(\"Accuracy Polynomial Kernel:\", accuracy_poly)\n",
    "print(\"Accuracy Radial Basis Kernel:\", accuracy_rbf)\n",
    "print(\"Accuracy Sigmoid Kernel:\", accuracy_sig)"
   ]
  },
  {
   "cell_type": "markdown",
   "id": "a049f241",
   "metadata": {},
   "source": [
    "### Grid search cv on smv:"
   ]
  },
  {
   "cell_type": "code",
   "execution_count": null,
   "id": "ee9ae7db",
   "metadata": {},
   "outputs": [],
   "source": [
    "from sklearn.model_selection import GridSearchCV"
   ]
  },
  {
   "cell_type": "code",
   "execution_count": null,
   "id": "8d70006e",
   "metadata": {},
   "outputs": [],
   "source": [
    "param={'kernel':('linear','poly','rbf','sigmoid')\n",
    "      , 'C':[1, 10]\n",
    "      ,'gamma': ['auto','scale']\n",
    "      ,'degree':[3,8]\n",
    "      ,'coef0':[0.001,10,0.5]\n",
    "      }"
   ]
  },
  {
   "cell_type": "code",
   "execution_count": null,
   "id": "0e482c3a",
   "metadata": {},
   "outputs": [],
   "source": [
    "SVModel=SVC()\n",
    "Grids=GridSearchCV(SVModel , param ,cv=5 )\n",
    "Grids.fit(x_train,y_train)"
   ]
  },
  {
   "cell_type": "code",
   "execution_count": null,
   "id": "4df262c9",
   "metadata": {},
   "outputs": [],
   "source": [
    "Grids.best_params_"
   ]
  },
  {
   "cell_type": "code",
   "execution_count": null,
   "id": "9dfabe0c",
   "metadata": {},
   "outputs": [],
   "source": [
    "svm = SVC(kernel = 'linear',C= , degree= , coef0= ,Gamma=  ,random_state = 0)  \n",
    "svm.fit(x_train,y_train)                  \n",
    "y_pred_svm = svm.predict(x_test)\n",
    "acc_svm = accuracy_score(y_test, y_pred_svm)"
   ]
  },
  {
   "cell_type": "code",
   "execution_count": null,
   "id": "0f837fc5",
   "metadata": {},
   "outputs": [],
   "source": [
    "#Using the Best Algorithm\n",
    "# Remove ID column(extra)\n",
    "test_df.drop('id',axis=1, inplace=True)"
   ]
  },
  {
   "cell_type": "code",
   "execution_count": null,
   "id": "0d17f1d5",
   "metadata": {},
   "outputs": [],
   "source": [
    "test_df"
   ]
  },
  {
   "cell_type": "code",
   "execution_count": null,
   "id": "d7bc518f",
   "metadata": {},
   "outputs": [],
   "source": [
    "#Feature Scaling\n",
    "from sklearn.preprocessing import StandardScaler\n",
    "sc = StandardScaler()\n",
    "test = sc.fit_transform(test_df)"
   ]
  },
  {
   "cell_type": "code",
   "execution_count": null,
   "id": "0da479d9",
   "metadata": {},
   "outputs": [],
   "source": [
    "test.shape"
   ]
  },
  {
   "cell_type": "code",
   "execution_count": null,
   "id": "0ac04299",
   "metadata": {},
   "outputs": [],
   "source": [
    "# Prediction\n",
    "predicted_price_range = svm.predict(test)\n",
    "\n",
    "test_df['predicted_price_range'] = predicted_price_range\n"
   ]
  },
  {
   "cell_type": "code",
   "execution_count": null,
   "id": "52f82d0f",
   "metadata": {},
   "outputs": [],
   "source": [
    "test_df"
   ]
  },
  {
   "cell_type": "code",
   "execution_count": null,
   "id": "83fb3084",
   "metadata": {},
   "outputs": [],
   "source": []
  }
 ],
 "metadata": {
  "kernelspec": {
   "display_name": "Python 3",
   "language": "python",
   "name": "python3"
  },
  "language_info": {
   "codemirror_mode": {
    "name": "ipython",
    "version": 3
   },
   "file_extension": ".py",
   "mimetype": "text/x-python",
   "name": "python",
   "nbconvert_exporter": "python",
   "pygments_lexer": "ipython3",
   "version": "3.8.8"
  }
 },
 "nbformat": 4,
 "nbformat_minor": 5
}
